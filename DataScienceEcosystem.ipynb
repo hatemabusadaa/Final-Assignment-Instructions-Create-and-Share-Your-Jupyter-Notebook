{
 "cells": [
  {
   "cell_type": "markdown",
   "id": "98ead48c",
   "metadata": {},
   "source": [
    "# Data Science Tolls and Ecosystem"
   ]
  },
  {
   "cell_type": "markdown",
   "id": "d28da1f6",
   "metadata": {},
   "source": [
    "In this notebook, Data Science Tools and Ecosystem are summarized."
   ]
  },
  {
   "cell_type": "markdown",
   "id": "6753cf62",
   "metadata": {},
   "source": [
    "Objectives:\n",
    "* popular languages that Data Scientists use\n",
    "* commonly used libraries used by Data Scientists\n",
    "* examples of evaluating arithmetic expressions in Python\n"
   ]
  },
  {
   "cell_type": "markdown",
   "id": "fc5684b4",
   "metadata": {},
   "source": [
    " Some of the popular languages that Data Scientists use are:\n",
    " 1. python\n",
    " 2. R\n",
    " 3. c++   "
   ]
  },
  {
   "cell_type": "markdown",
   "id": "b42fb7c2",
   "metadata": {},
   "source": [
    "Some of the commonly used libraries used by Data Scientists include:\n",
    " 1. pandas\n",
    " 2. numpy\n",
    " 3. Scikit-learn  "
   ]
  },
  {
   "cell_type": "markdown",
   "id": "485ab617",
   "metadata": {},
   "source": [
    "|Data Science Tools|\n",
    "|------|\n",
    "|visual studio|\n",
    "|jupyter lap|\n",
    "|R studio|"
   ]
  },
  {
   "cell_type": "markdown",
   "id": "8844e862",
   "metadata": {},
   "source": [
    "### Below are a few examples of evaluating arithmetic expressions in Python"
   ]
  },
  {
   "cell_type": "code",
   "execution_count": 3,
   "id": "c3265042",
   "metadata": {},
   "outputs": [
    {
     "data": {
      "text/plain": [
       "17"
      ]
     },
     "execution_count": 3,
     "metadata": {},
     "output_type": "execute_result"
    }
   ],
   "source": [
    "#This a simple arithmetic expression to mutiply then add integers\n",
    "(3*4)+5"
   ]
  },
  {
   "cell_type": "code",
   "execution_count": 5,
   "id": "d663596d",
   "metadata": {},
   "outputs": [
    {
     "data": {
      "text/plain": [
       "3"
      ]
     },
     "execution_count": 5,
     "metadata": {},
     "output_type": "execute_result"
    }
   ],
   "source": [
    "#This will convert 200 minutes to hours by diving by 60\n",
    "200//60\n"
   ]
  },
  {
   "cell_type": "markdown",
   "id": "1907f711",
   "metadata": {},
   "source": [
    "## Author\n",
    "Hatem yousef"
   ]
  },
  {
   "cell_type": "code",
   "execution_count": null,
   "id": "902c681c",
   "metadata": {},
   "outputs": [],
   "source": []
  }
 ],
 "metadata": {
  "kernelspec": {
   "display_name": "Python 3 (ipykernel)",
   "language": "python",
   "name": "python3"
  },
  "language_info": {
   "codemirror_mode": {
    "name": "ipython",
    "version": 3
   },
   "file_extension": ".py",
   "mimetype": "text/x-python",
   "name": "python",
   "nbconvert_exporter": "python",
   "pygments_lexer": "ipython3",
   "version": "3.9.12"
  }
 },
 "nbformat": 4,
 "nbformat_minor": 5
}
